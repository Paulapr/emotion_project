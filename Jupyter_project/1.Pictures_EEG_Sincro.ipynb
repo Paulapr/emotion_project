{
 "cells": [
  {
   "cell_type": "markdown",
   "metadata": {},
   "source": [
    "## 1. Visualización imágenes y registro EEG"
   ]
  },
  {
   "cell_type": "code",
   "execution_count": null,
   "metadata": {},
   "outputs": [],
   "source": [
    "import random\n",
    "import os\n",
    "from os import listdir\n",
    "from os.path import isfile, join\n",
    "import subprocess, sys\n",
    "import pandas as pd\n",
    "import numpy as np\n",
    "import time"
   ]
  },
  {
   "cell_type": "code",
   "execution_count": null,
   "metadata": {},
   "outputs": [],
   "source": [
    "# DESDE LA TERMINAL\n",
    "\n",
    "# $ muselsl list                       --> Detectar Muse\n",
    "# $ muselsl stream --name MUSE-96E2    --> Comenzar stream\n",
    "# $ muselsl view --version 2           --> Ver registro, comprobar buena señal, sin artefactos. doble pantalla\n",
    "# $ muselsl record --duration 900     --> Comenzar a grabar. Duracion en segundos"
   ]
  },
  {
   "cell_type": "code",
   "execution_count": null,
   "metadata": {},
   "outputs": [],
   "source": [
    "# lista con todos los nombres de las imágenes: path to the folder with the pictures\n",
    "\n",
    "list_pictures = [f for f in listdir('/todas_imagenes') \n",
    "                 if isfile(join('/todas_imagenes', f))]"
   ]
  },
  {
   "cell_type": "code",
   "execution_count": null,
   "metadata": {},
   "outputs": [],
   "source": [
    "# Crear la lista con las imágenes. (730 imágenes* 10s por imagen + 2s imágen negra) --> lista completa\n",
    "# Con la lista completa hacer un shuffle y subdividir en 10 listas.--> 73 imágenes por lista\n",
    "\n",
    "def chunkIt(lista, n):                                     #coge la lista y la divide entre n\n",
    "    avg = len(lista) / float(n)\n",
    "    out = []\n",
    "    last = 0.0\n",
    "    while last < len(lista):\n",
    "        out.append(lista[int(last):int(last + avg)])\n",
    "        last += avg\n",
    "    return out\n",
    "\n",
    "random.shuffle(list_pictures)\n",
    "listas_n = chunkIt(list_pictures, 10)"
   ]
  },
  {
   "cell_type": "code",
   "execution_count": null,
   "metadata": {},
   "outputs": [],
   "source": [
    "# ESTE PASO SOLO HACER UNA VEZ! SE GUARDA LA LISTA CON LAS IMÁGENES ALEATORIAS Y DESPUES SE CARGA LA LISTA\n",
    "\n",
    "for lista in listas_n:                          #guarda un txt con todas las listas creadas\n",
    "    mi_path = \"./lista_de_listas.txt\"\n",
    "    with open(mi_path, 'a+') as f:\n",
    "        f.write(str(lista)+ '\\n')\n",
    "        \n",
    "lista_1 = listas_n[0]\n",
    "lista_2 = listas_n[1]\n",
    "lista_3 = listas_n[2]\n",
    "lista_4 = listas_n[3]\n",
    "lista_5 = listas_n[4]\n",
    "lista_6 = listas_n[5]\n",
    "lista_7 = listas_n[6]\n",
    "lista_8 = listas_n[7]\n",
    "lista_9 = listas_n[8]\n",
    "lista_10 = listas_n[9]"
   ]
  },
  {
   "cell_type": "code",
   "execution_count": null,
   "metadata": {},
   "outputs": [],
   "source": [
    "# De cada una de las listas formadas en el paso anterior, va abriendo sus elementos, cada foto está 10 segundos, \n",
    "# despues 2s de pantalla negra, abre otra imagen 10 segundos y así sucesivamente. Crea un dict con imagen:timestamp\n",
    "\n",
    "def visualize_pics (lista):\n",
    "    pic_time= {}\n",
    "    for p in lista:\n",
    "        opener =\"open\" if sys.platform == \"darwin\" else \"xdg-open\"\n",
    "        subprocess.call([opener, p])\n",
    "        timestamp1 = int(round(time.time() * 1000))\n",
    "        time.sleep(10)                                                   # tiempo que está la foto\n",
    "        subprocess.call([opener, 'black-screen.png'])\n",
    "        time.sleep(2)                                                    #tiempo pantalla negra  \n",
    "        timestamp2 = int(round(time.time() * 1000))                              \n",
    "        pic_time.update({p:(timestamp1,timestamp2)})\n",
    "    pic_time_df = pd.DataFrame(list(pic_time.items()), columns=['Picture', 'timestamps'])\n",
    "    pic_time_df = pic_time_df.join(pd.DataFrame(pic_time_df['timestamps'].values.tolist(), columns=['start_time', 'end_time']))\n",
    "    pic_time_df = pic_time_df.drop(['timestamps'], axis = 1)\n",
    "    return pic_time_df                             "
   ]
  },
  {
   "cell_type": "code",
   "execution_count": null,
   "metadata": {
    "scrolled": true
   },
   "outputs": [],
   "source": [
    "# Dataset con los datos de imagen y timestamp start y end\n",
    "# n es un numero del 1 al 10\n",
    "\n",
    "pic_time_df = visualize_pics(lista_n) \n",
    "pic_time_df.to_csv('pic_time_n',index=False) "
   ]
  },
  {
   "cell_type": "code",
   "execution_count": null,
   "metadata": {
    "scrolled": true
   },
   "outputs": [],
   "source": [
    "# Aqui imprimimos el dataset con los datos de la grabación EEG\n",
    "# el csv que emite Muse hay que abrirlo primero con excel y guardarlo como csv para que salgan bien los timestamps\n",
    "# GUARDAR CON EXCEL CON 'registro + NUMERO.csv'(numero: 1-10)\n",
    "\n",
    "df_registro = pd.read_csv('./registro_n.csv')           #record grabado durante las imagenes\n",
    "df_registro.drop(['Right AUX'], axis=1, inplace=True)   # borrar canal que no se utiliza\n",
    "df_registro['image']='pic'                              # Crear la columna image con un default value"
   ]
  },
  {
   "cell_type": "markdown",
   "metadata": {},
   "source": [
    "- Merge entre dataset pic_time_df (imagen-start-end) y el df_registro EEG. Para cada row del EEG añadir el nombre de imagen que corresponda, que será aquella cuyo start y en time engloben al timestamp de la row de EEG.\n",
    "    - DF resultante: imagen-timestamp-canal1-canal2-canal3-canal4. \n",
    "    - Cada imagen aparecerá en unas 3080 filas\n",
    "    - Tendré 10 dataset así, uno por cada grupo de imágenes. \n",
    "\n",
    "- Finalmente concat de los 10 dataset--> Dataset 2540* 730; 1854200 filas y 6 columnas"
   ]
  },
  {
   "cell_type": "code",
   "execution_count": null,
   "metadata": {},
   "outputs": [],
   "source": [
    "# Asignar a cada row del EEG la imagen que corresponde\n",
    "\n",
    "for row in pic_time_df.iterrows():\n",
    "    df_registro.loc[(df_registro['timestamps']> row[1].start_time) & \n",
    "                    (df_registro['timestamps'] < row[1].end_time), 'image'] = row[1].Picture\n",
    "\n",
    "df_registro_pic = df_registro[df_registro.image != 'pic'] # Borrar rows sin imagen asignada"
   ]
  },
  {
   "cell_type": "code",
   "execution_count": null,
   "metadata": {},
   "outputs": [],
   "source": [
    "# De estos tendré un total de 10, que tendré que concatenar\n",
    "\n",
    "df_registro_pic.to_csv('registro_pic_n.csv',index=False)   # NUMERO 1-10"
   ]
  }
 ],
 "metadata": {
  "kernelspec": {
   "display_name": "Python 3",
   "language": "python",
   "name": "python3"
  },
  "language_info": {
   "codemirror_mode": {
    "name": "ipython",
    "version": 3
   },
   "file_extension": ".py",
   "mimetype": "text/x-python",
   "name": "python",
   "nbconvert_exporter": "python",
   "pygments_lexer": "ipython3",
   "version": "3.6.7"
  }
 },
 "nbformat": 4,
 "nbformat_minor": 2
}
